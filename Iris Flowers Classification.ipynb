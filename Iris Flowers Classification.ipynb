{
 "cells": [
  {
   "cell_type": "code",
   "execution_count": 1,
   "id": "d0208e65",
   "metadata": {},
   "outputs": [],
   "source": [
    "import numpy as np\n",
    "import pandas as pd\n",
    "import matplotlib.pyplot as plt\n",
    "from sklearn import datasets\n",
    "from sklearn.model_selection import train_test_split\n",
    "from sklearn.preprocessing import StandardScaler\n",
    "from sklearn.neighbors import KNeighborsClassifier\n",
    "from sklearn.metrics import classification_report, confusion_matrix\n"
   ]
  },
  {
   "cell_type": "code",
   "execution_count": 2,
   "id": "f59558a4",
   "metadata": {},
   "outputs": [],
   "source": [
    "from sklearn.datasets import load_iris\n",
    "iris = load_iris()\n"
   ]
  },
  {
   "cell_type": "code",
   "execution_count": 3,
   "id": "5995e3a0",
   "metadata": {},
   "outputs": [],
   "source": [
    "data = pd.DataFrame(data= np.c_[iris['data'], iris['target']], columns= iris['feature_names'] + ['target'])\n",
    "X = data.drop('target', axis=1)  # Features (sepal length, sepal width, petal length, petal width)\n",
    "y = data['target']  # Target variable (species)\n"
   ]
  },
  {
   "cell_type": "code",
   "execution_count": 10,
   "id": "a91c007a",
   "metadata": {},
   "outputs": [
    {
     "data": {
      "text/html": [
       "<div>\n",
       "<style scoped>\n",
       "    .dataframe tbody tr th:only-of-type {\n",
       "        vertical-align: middle;\n",
       "    }\n",
       "\n",
       "    .dataframe tbody tr th {\n",
       "        vertical-align: top;\n",
       "    }\n",
       "\n",
       "    .dataframe thead th {\n",
       "        text-align: right;\n",
       "    }\n",
       "</style>\n",
       "<table border=\"1\" class=\"dataframe\">\n",
       "  <thead>\n",
       "    <tr style=\"text-align: right;\">\n",
       "      <th></th>\n",
       "      <th>sepal length (cm)</th>\n",
       "      <th>sepal width (cm)</th>\n",
       "      <th>petal length (cm)</th>\n",
       "      <th>petal width (cm)</th>\n",
       "    </tr>\n",
       "  </thead>\n",
       "  <tbody>\n",
       "    <tr>\n",
       "      <th>0</th>\n",
       "      <td>5.1</td>\n",
       "      <td>3.5</td>\n",
       "      <td>1.4</td>\n",
       "      <td>0.2</td>\n",
       "    </tr>\n",
       "    <tr>\n",
       "      <th>1</th>\n",
       "      <td>4.9</td>\n",
       "      <td>3.0</td>\n",
       "      <td>1.4</td>\n",
       "      <td>0.2</td>\n",
       "    </tr>\n",
       "    <tr>\n",
       "      <th>2</th>\n",
       "      <td>4.7</td>\n",
       "      <td>3.2</td>\n",
       "      <td>1.3</td>\n",
       "      <td>0.2</td>\n",
       "    </tr>\n",
       "    <tr>\n",
       "      <th>3</th>\n",
       "      <td>4.6</td>\n",
       "      <td>3.1</td>\n",
       "      <td>1.5</td>\n",
       "      <td>0.2</td>\n",
       "    </tr>\n",
       "    <tr>\n",
       "      <th>4</th>\n",
       "      <td>5.0</td>\n",
       "      <td>3.6</td>\n",
       "      <td>1.4</td>\n",
       "      <td>0.2</td>\n",
       "    </tr>\n",
       "    <tr>\n",
       "      <th>...</th>\n",
       "      <td>...</td>\n",
       "      <td>...</td>\n",
       "      <td>...</td>\n",
       "      <td>...</td>\n",
       "    </tr>\n",
       "    <tr>\n",
       "      <th>145</th>\n",
       "      <td>6.7</td>\n",
       "      <td>3.0</td>\n",
       "      <td>5.2</td>\n",
       "      <td>2.3</td>\n",
       "    </tr>\n",
       "    <tr>\n",
       "      <th>146</th>\n",
       "      <td>6.3</td>\n",
       "      <td>2.5</td>\n",
       "      <td>5.0</td>\n",
       "      <td>1.9</td>\n",
       "    </tr>\n",
       "    <tr>\n",
       "      <th>147</th>\n",
       "      <td>6.5</td>\n",
       "      <td>3.0</td>\n",
       "      <td>5.2</td>\n",
       "      <td>2.0</td>\n",
       "    </tr>\n",
       "    <tr>\n",
       "      <th>148</th>\n",
       "      <td>6.2</td>\n",
       "      <td>3.4</td>\n",
       "      <td>5.4</td>\n",
       "      <td>2.3</td>\n",
       "    </tr>\n",
       "    <tr>\n",
       "      <th>149</th>\n",
       "      <td>5.9</td>\n",
       "      <td>3.0</td>\n",
       "      <td>5.1</td>\n",
       "      <td>1.8</td>\n",
       "    </tr>\n",
       "  </tbody>\n",
       "</table>\n",
       "<p>150 rows × 4 columns</p>\n",
       "</div>"
      ],
      "text/plain": [
       "     sepal length (cm)  sepal width (cm)  petal length (cm)  petal width (cm)\n",
       "0                  5.1               3.5                1.4               0.2\n",
       "1                  4.9               3.0                1.4               0.2\n",
       "2                  4.7               3.2                1.3               0.2\n",
       "3                  4.6               3.1                1.5               0.2\n",
       "4                  5.0               3.6                1.4               0.2\n",
       "..                 ...               ...                ...               ...\n",
       "145                6.7               3.0                5.2               2.3\n",
       "146                6.3               2.5                5.0               1.9\n",
       "147                6.5               3.0                5.2               2.0\n",
       "148                6.2               3.4                5.4               2.3\n",
       "149                5.9               3.0                5.1               1.8\n",
       "\n",
       "[150 rows x 4 columns]"
      ]
     },
     "execution_count": 10,
     "metadata": {},
     "output_type": "execute_result"
    }
   ],
   "source": [
    "X"
   ]
  },
  {
   "cell_type": "code",
   "execution_count": 11,
   "id": "5bf44a31",
   "metadata": {},
   "outputs": [
    {
     "data": {
      "text/plain": [
       "0      0.0\n",
       "1      0.0\n",
       "2      0.0\n",
       "3      0.0\n",
       "4      0.0\n",
       "      ... \n",
       "145    2.0\n",
       "146    2.0\n",
       "147    2.0\n",
       "148    2.0\n",
       "149    2.0\n",
       "Name: target, Length: 150, dtype: float64"
      ]
     },
     "execution_count": 11,
     "metadata": {},
     "output_type": "execute_result"
    }
   ],
   "source": [
    "y"
   ]
  },
  {
   "cell_type": "code",
   "execution_count": 19,
   "id": "0f6f8d6e",
   "metadata": {},
   "outputs": [
    {
     "name": "stdout",
     "output_type": "stream",
     "text": [
      "<class 'pandas.core.frame.DataFrame'>\n",
      "RangeIndex: 150 entries, 0 to 149\n",
      "Data columns (total 5 columns):\n",
      " #   Column             Non-Null Count  Dtype  \n",
      "---  ------             --------------  -----  \n",
      " 0   sepal length (cm)  150 non-null    float64\n",
      " 1   sepal width (cm)   150 non-null    float64\n",
      " 2   petal length (cm)  150 non-null    float64\n",
      " 3   petal width (cm)   150 non-null    float64\n",
      " 4   target             150 non-null    float64\n",
      "dtypes: float64(5)\n",
      "memory usage: 6.0 KB\n"
     ]
    }
   ],
   "source": [
    "data.info()"
   ]
  },
  {
   "cell_type": "code",
   "execution_count": 4,
   "id": "6b6a4f41",
   "metadata": {},
   "outputs": [],
   "source": [
    "X_train, X_test, y_train, y_test = train_test_split(X, y, test_size=0.3, random_state=42)\n"
   ]
  },
  {
   "cell_type": "code",
   "execution_count": 5,
   "id": "b5f2f397",
   "metadata": {},
   "outputs": [],
   "source": [
    "scaler = StandardScaler()\n",
    "scaler.fit(X_train)\n",
    "X_train = scaler.transform(X_train)\n",
    "X_test = scaler.transform(X_test)\n"
   ]
  },
  {
   "cell_type": "code",
   "execution_count": 12,
   "id": "8f9d140b",
   "metadata": {},
   "outputs": [
    {
     "data": {
      "text/plain": [
       "array([[-0.4134164 , -1.46200287, -0.09951105, -0.32339776],\n",
       "       [ 0.55122187, -0.50256349,  0.71770262,  0.35303182],\n",
       "       [ 0.67180165,  0.21701605,  0.95119225,  0.75888956],\n",
       "       [ 0.91296121, -0.02284379,  0.30909579,  0.2177459 ],\n",
       "       [ 1.63643991,  1.41631528,  1.30142668,  1.70589097],\n",
       "       [-0.17225683, -0.26270364,  0.19235097,  0.08245999],\n",
       "       [ 2.11875905, -0.02284379,  1.59328871,  1.16474731],\n",
       "       [-0.29283662, -0.02284379,  0.36746819,  0.35303182],\n",
       "       [-0.89573553,  1.17645543, -1.44207638, -1.40568508],\n",
       "       [ 2.23933883, -0.50256349,  1.65166111,  1.0294614 ],\n",
       "       [-0.05167705, -0.74242333,  0.13397857, -0.32339776],\n",
       "       [-0.77515575,  0.93659559, -1.44207638, -1.40568508],\n",
       "       [-1.01631531,  1.17645543, -1.50044878, -1.27039917],\n",
       "       [-0.89573553,  1.89603497, -1.15021435, -1.13511325],\n",
       "       [-1.01631531, -2.42144225, -0.21625586, -0.32339776],\n",
       "       [ 0.55122187, -0.74242333,  0.60095781,  0.75888956],\n",
       "       [-1.25747488,  0.93659559, -1.15021435, -1.40568508],\n",
       "       [-1.01631531, -0.02284379, -1.32533157, -1.40568508],\n",
       "       [-0.89573553,  0.69673574, -1.26695916, -0.99982734],\n",
       "       [-0.29283662, -0.74242333,  0.19235097,  0.08245999],\n",
       "       [-0.89573553,  0.93659559, -1.38370397, -1.40568508],\n",
       "       [-0.17225683, -0.02284379,  0.19235097, -0.05282593],\n",
       "       [ 2.23933883,  1.89603497,  1.65166111,  1.30003323],\n",
       "       [-1.49863445,  0.4568759 , -1.44207638, -1.40568508],\n",
       "       [ 0.43064208, -0.26270364,  0.25072338,  0.08245999],\n",
       "       [-0.17225683, -1.22214302,  0.65933022,  1.0294614 ],\n",
       "       [-0.4134164 ,  2.85547435, -1.44207638, -1.40568508],\n",
       "       [ 0.18948252, -0.02284379,  0.54258541,  0.75888956],\n",
       "       [-0.05167705, -0.74242333,  0.71770262,  0.89417548],\n",
       "       [ 0.18948252, -1.94172256,  0.07560616, -0.32339776],\n",
       "       [-0.53399618, -0.02284379,  0.36746819,  0.35303182],\n",
       "       [ 0.43064208,  0.93659559,  0.89281984,  1.43531914],\n",
       "       [-0.4134164 , -1.70186271,  0.07560616,  0.08245999],\n",
       "       [-0.53399618,  2.13589481, -1.26695916, -1.13511325],\n",
       "       [-1.01631531, -1.70186271, -0.33300068, -0.32339776],\n",
       "       [ 0.67180165, -0.74242333,  0.83444743,  0.89417548],\n",
       "       [-1.01631531,  0.69673574, -1.44207638, -1.40568508],\n",
       "       [-1.01631531,  0.4568759 , -1.55882119, -1.40568508],\n",
       "       [-0.4134164 , -1.46200287, -0.04113865, -0.18811184],\n",
       "       [ 1.033541  , -0.02284379,  0.65933022,  0.62360365],\n",
       "       [-1.1368951 ,  0.21701605, -1.38370397, -1.40568508],\n",
       "       [-0.05167705, -0.50256349,  0.71770262,  1.57060506],\n",
       "       [-1.01631531,  0.93659559, -1.38370397, -1.40568508],\n",
       "       [-1.01631531,  1.17645543, -1.32533157, -0.86454142],\n",
       "       [ 0.06890273,  0.4568759 ,  0.54258541,  0.75888956],\n",
       "       [-0.89573553, -1.22214302, -0.50811789, -0.18811184],\n",
       "       [ 1.27470056,  0.4568759 ,  1.06793706,  1.43531914],\n",
       "       [ 0.18948252, -0.74242333,  0.71770262,  0.48831773],\n",
       "       [ 0.3100623 , -0.98228318,  1.00956465,  0.2177459 ],\n",
       "       [ 2.23933883, -0.02284379,  1.30142668,  1.43531914],\n",
       "       [-0.4134164 , -1.22214302,  0.07560616,  0.08245999],\n",
       "       [-1.73979401, -0.26270364, -1.44207638, -1.40568508],\n",
       "       [-1.8603738 , -0.02284379, -1.6171936 , -1.540971  ],\n",
       "       [ 0.18948252, -1.94172256,  0.65933022,  0.35303182],\n",
       "       [ 1.63643991,  0.4568759 ,  1.24305427,  0.75888956],\n",
       "       [-1.49863445,  0.21701605, -1.38370397, -1.40568508],\n",
       "       [-0.89573553,  1.17645543, -1.44207638, -1.27039917],\n",
       "       [-1.73979401, -0.02284379, -1.50044878, -1.40568508],\n",
       "       [ 0.55122187, -1.22214302,  0.60095781,  0.35303182],\n",
       "       [ 0.55122187,  0.93659559,  1.00956465,  1.57060506],\n",
       "       [-1.49863445,  0.93659559, -1.44207638, -1.27039917],\n",
       "       [ 1.15412078, -0.02284379,  0.95119225,  1.16474731],\n",
       "       [ 0.55122187,  0.69673574,  1.24305427,  1.70589097],\n",
       "       [-1.37805466,  0.4568759 , -1.50044878, -1.40568508],\n",
       "       [ 0.3100623 , -0.26270364,  0.484213  ,  0.2177459 ],\n",
       "       [ 0.79238143, -0.50256349,  0.4258406 ,  0.35303182],\n",
       "       [ 0.43064208, -0.50256349,  0.54258541,  0.75888956],\n",
       "       [ 1.39528035,  0.4568759 ,  0.484213  ,  0.2177459 ],\n",
       "       [ 0.67180165,  0.4568759 ,  0.83444743,  1.43531914],\n",
       "       [-0.89573553,  1.89603497, -1.32533157, -1.40568508],\n",
       "       [ 1.27470056,  0.21701605,  0.89281984,  1.16474731],\n",
       "       [ 0.06890273, -0.02284379,  0.19235097,  0.35303182],\n",
       "       [ 0.79238143, -0.02284379,  0.77607503,  1.0294614 ],\n",
       "       [-0.17225683, -0.98228318, -0.21625586, -0.32339776],\n",
       "       [-0.77515575, -0.74242333,  0.01723376,  0.2177459 ],\n",
       "       [ 0.3100623 , -0.02284379,  0.4258406 ,  0.2177459 ],\n",
       "       [-1.61921423, -1.70186271, -1.50044878, -1.27039917],\n",
       "       [ 0.91296121, -0.26270364,  0.4258406 ,  0.08245999],\n",
       "       [-0.4134164 , -0.98228318,  0.30909579, -0.05282593],\n",
       "       [-0.65457597,  1.65617512, -1.38370397, -1.40568508],\n",
       "       [-0.29283662, -0.02284379,  0.13397857,  0.08245999],\n",
       "       [ 1.7570197 , -0.26270364,  1.41817149,  0.75888956],\n",
       "       [ 1.033541  ,  0.69673574,  1.06793706,  1.16474731],\n",
       "       [-0.89573553,  1.65617512, -1.38370397, -1.13511325],\n",
       "       [-1.1368951 , -1.46200287, -0.33300068, -0.32339776],\n",
       "       [ 1.033541  ,  0.69673574,  1.06793706,  1.70589097],\n",
       "       [ 1.63643991, -0.02284379,  1.12630946,  0.48831773],\n",
       "       [-1.1368951 ,  1.41631528, -1.44207638, -1.540971  ],\n",
       "       [ 1.033541  ,  0.21701605,  1.00956465,  1.57060506],\n",
       "       [-1.1368951 , -0.02284379, -1.44207638, -1.40568508],\n",
       "       [ 1.27470056,  0.21701605,  0.60095781,  0.35303182],\n",
       "       [ 1.87759948, -0.50256349,  1.30142668,  0.89417548],\n",
       "       [ 0.55122187, -0.26270364,  1.00956465,  0.75888956],\n",
       "       [-0.17225683, -0.50256349,  0.13397857,  0.08245999],\n",
       "       [ 0.79238143, -0.02284379,  0.95119225,  0.75888956],\n",
       "       [ 0.55122187, -1.70186271,  0.30909579,  0.08245999],\n",
       "       [ 0.67180165, -0.26270364,  0.25072338,  0.08245999],\n",
       "       [-0.29283662, -0.50256349,  0.60095781,  1.0294614 ],\n",
       "       [ 0.06890273, -0.02284379,  0.71770262,  0.75888956],\n",
       "       [-0.53399618,  0.93659559, -1.26695916, -1.40568508],\n",
       "       [ 0.3100623 , -0.50256349,  0.07560616,  0.08245999],\n",
       "       [-1.1368951 , -1.22214302,  0.36746819,  0.62360365],\n",
       "       [-0.05167705,  2.37575466, -1.55882119, -1.40568508],\n",
       "       [-0.05167705, -0.98228318,  0.07560616, -0.05282593],\n",
       "       [ 1.51586013, -0.02284379,  1.18468187,  1.16474731]])"
      ]
     },
     "execution_count": 12,
     "metadata": {},
     "output_type": "execute_result"
    }
   ],
   "source": [
    "X_train"
   ]
  },
  {
   "cell_type": "code",
   "execution_count": 13,
   "id": "3d7a2f58",
   "metadata": {},
   "outputs": [
    {
     "data": {
      "text/plain": [
       "81     1.0\n",
       "133    2.0\n",
       "137    2.0\n",
       "75     1.0\n",
       "109    2.0\n",
       "      ... \n",
       "71     1.0\n",
       "106    2.0\n",
       "14     0.0\n",
       "92     1.0\n",
       "102    2.0\n",
       "Name: target, Length: 105, dtype: float64"
      ]
     },
     "execution_count": 13,
     "metadata": {},
     "output_type": "execute_result"
    }
   ],
   "source": [
    "y_train"
   ]
  },
  {
   "cell_type": "code",
   "execution_count": 6,
   "id": "0c835933",
   "metadata": {},
   "outputs": [
    {
     "data": {
      "text/html": [
       "<style>#sk-container-id-1 {color: black;}#sk-container-id-1 pre{padding: 0;}#sk-container-id-1 div.sk-toggleable {background-color: white;}#sk-container-id-1 label.sk-toggleable__label {cursor: pointer;display: block;width: 100%;margin-bottom: 0;padding: 0.3em;box-sizing: border-box;text-align: center;}#sk-container-id-1 label.sk-toggleable__label-arrow:before {content: \"▸\";float: left;margin-right: 0.25em;color: #696969;}#sk-container-id-1 label.sk-toggleable__label-arrow:hover:before {color: black;}#sk-container-id-1 div.sk-estimator:hover label.sk-toggleable__label-arrow:before {color: black;}#sk-container-id-1 div.sk-toggleable__content {max-height: 0;max-width: 0;overflow: hidden;text-align: left;background-color: #f0f8ff;}#sk-container-id-1 div.sk-toggleable__content pre {margin: 0.2em;color: black;border-radius: 0.25em;background-color: #f0f8ff;}#sk-container-id-1 input.sk-toggleable__control:checked~div.sk-toggleable__content {max-height: 200px;max-width: 100%;overflow: auto;}#sk-container-id-1 input.sk-toggleable__control:checked~label.sk-toggleable__label-arrow:before {content: \"▾\";}#sk-container-id-1 div.sk-estimator input.sk-toggleable__control:checked~label.sk-toggleable__label {background-color: #d4ebff;}#sk-container-id-1 div.sk-label input.sk-toggleable__control:checked~label.sk-toggleable__label {background-color: #d4ebff;}#sk-container-id-1 input.sk-hidden--visually {border: 0;clip: rect(1px 1px 1px 1px);clip: rect(1px, 1px, 1px, 1px);height: 1px;margin: -1px;overflow: hidden;padding: 0;position: absolute;width: 1px;}#sk-container-id-1 div.sk-estimator {font-family: monospace;background-color: #f0f8ff;border: 1px dotted black;border-radius: 0.25em;box-sizing: border-box;margin-bottom: 0.5em;}#sk-container-id-1 div.sk-estimator:hover {background-color: #d4ebff;}#sk-container-id-1 div.sk-parallel-item::after {content: \"\";width: 100%;border-bottom: 1px solid gray;flex-grow: 1;}#sk-container-id-1 div.sk-label:hover label.sk-toggleable__label {background-color: #d4ebff;}#sk-container-id-1 div.sk-serial::before {content: \"\";position: absolute;border-left: 1px solid gray;box-sizing: border-box;top: 0;bottom: 0;left: 50%;z-index: 0;}#sk-container-id-1 div.sk-serial {display: flex;flex-direction: column;align-items: center;background-color: white;padding-right: 0.2em;padding-left: 0.2em;position: relative;}#sk-container-id-1 div.sk-item {position: relative;z-index: 1;}#sk-container-id-1 div.sk-parallel {display: flex;align-items: stretch;justify-content: center;background-color: white;position: relative;}#sk-container-id-1 div.sk-item::before, #sk-container-id-1 div.sk-parallel-item::before {content: \"\";position: absolute;border-left: 1px solid gray;box-sizing: border-box;top: 0;bottom: 0;left: 50%;z-index: -1;}#sk-container-id-1 div.sk-parallel-item {display: flex;flex-direction: column;z-index: 1;position: relative;background-color: white;}#sk-container-id-1 div.sk-parallel-item:first-child::after {align-self: flex-end;width: 50%;}#sk-container-id-1 div.sk-parallel-item:last-child::after {align-self: flex-start;width: 50%;}#sk-container-id-1 div.sk-parallel-item:only-child::after {width: 0;}#sk-container-id-1 div.sk-dashed-wrapped {border: 1px dashed gray;margin: 0 0.4em 0.5em 0.4em;box-sizing: border-box;padding-bottom: 0.4em;background-color: white;}#sk-container-id-1 div.sk-label label {font-family: monospace;font-weight: bold;display: inline-block;line-height: 1.2em;}#sk-container-id-1 div.sk-label-container {text-align: center;}#sk-container-id-1 div.sk-container {/* jupyter's `normalize.less` sets `[hidden] { display: none; }` but bootstrap.min.css set `[hidden] { display: none !important; }` so we also need the `!important` here to be able to override the default hidden behavior on the sphinx rendered scikit-learn.org. See: https://github.com/scikit-learn/scikit-learn/issues/21755 */display: inline-block !important;position: relative;}#sk-container-id-1 div.sk-text-repr-fallback {display: none;}</style><div id=\"sk-container-id-1\" class=\"sk-top-container\"><div class=\"sk-text-repr-fallback\"><pre>KNeighborsClassifier()</pre><b>In a Jupyter environment, please rerun this cell to show the HTML representation or trust the notebook. <br />On GitHub, the HTML representation is unable to render, please try loading this page with nbviewer.org.</b></div><div class=\"sk-container\" hidden><div class=\"sk-item\"><div class=\"sk-estimator sk-toggleable\"><input class=\"sk-toggleable__control sk-hidden--visually\" id=\"sk-estimator-id-1\" type=\"checkbox\" checked><label for=\"sk-estimator-id-1\" class=\"sk-toggleable__label sk-toggleable__label-arrow\">KNeighborsClassifier</label><div class=\"sk-toggleable__content\"><pre>KNeighborsClassifier()</pre></div></div></div></div></div>"
      ],
      "text/plain": [
       "KNeighborsClassifier()"
      ]
     },
     "execution_count": 6,
     "metadata": {},
     "output_type": "execute_result"
    }
   ],
   "source": [
    "#kNeighbors Classifier\n",
    "classifier = KNeighborsClassifier(n_neighbors=5)  # we can choose different values for k\n",
    "classifier.fit(X_train, y_train)\n"
   ]
  },
  {
   "cell_type": "code",
   "execution_count": 7,
   "id": "509a013b",
   "metadata": {},
   "outputs": [],
   "source": [
    "y_pred = classifier.predict(X_test)\n"
   ]
  },
  {
   "cell_type": "code",
   "execution_count": 14,
   "id": "4b831044",
   "metadata": {},
   "outputs": [
    {
     "data": {
      "text/plain": [
       "array([1., 0., 2., 1., 1., 0., 1., 2., 1., 1., 2., 0., 0., 0., 0., 1., 2.,\n",
       "       1., 1., 2., 0., 2., 0., 2., 2., 2., 2., 2., 0., 0., 0., 0., 1., 0.,\n",
       "       0., 2., 1., 0., 0., 0., 2., 1., 1., 0., 0.])"
      ]
     },
     "execution_count": 14,
     "metadata": {},
     "output_type": "execute_result"
    }
   ],
   "source": [
    "y_pred"
   ]
  },
  {
   "cell_type": "code",
   "execution_count": 8,
   "id": "06a35536",
   "metadata": {},
   "outputs": [
    {
     "name": "stdout",
     "output_type": "stream",
     "text": [
      "[[19  0  0]\n",
      " [ 0 13  0]\n",
      " [ 0  0 13]]\n",
      "              precision    recall  f1-score   support\n",
      "\n",
      "         0.0       1.00      1.00      1.00        19\n",
      "         1.0       1.00      1.00      1.00        13\n",
      "         2.0       1.00      1.00      1.00        13\n",
      "\n",
      "    accuracy                           1.00        45\n",
      "   macro avg       1.00      1.00      1.00        45\n",
      "weighted avg       1.00      1.00      1.00        45\n",
      "\n"
     ]
    }
   ],
   "source": [
    "print(confusion_matrix(y_test, y_pred))\n",
    "print(classification_report(y_test, y_pred))\n"
   ]
  },
  {
   "cell_type": "code",
   "execution_count": 18,
   "id": "b7ed3a49",
   "metadata": {},
   "outputs": [
    {
     "data": {
      "image/png": "[encoded data removed]",
      "text/plain": [
       "<Figure size 640x480 with 1 Axes>"
      ]
     },
     "metadata": {},
     "output_type": "display_data"
    }
   ],
   "source": [
    "# For example, a scatter plot of sepal length vs. sepal width with colors indicating species\n",
    "plt.scatter(X_test[:, 0], X_test[:, 1], c=y_pred)\n",
    "plt.xlabel('Sepal Length')\n",
    "plt.ylabel('Sepal Width')\n",
    "plt.show()\n"
   ]
  },
  {
   "cell_type": "code",
   "execution_count": 20,
   "id": "24827d06",
   "metadata": {},
   "outputs": [
    {
     "data": {
      "image/png": "[encoded data removed]",
      "text/plain": [
       "<Figure size 640x480 with 1 Axes>"
      ]
     },
     "metadata": {},
     "output_type": "display_data"
    }
   ],
   "source": [
    "# For example, a scatter plot of petal length vs. petal width with colors indicating species\n",
    "plt.scatter(X_test[:, 0], X_test[:, 1], c=y_pred)\n",
    "plt.xlabel('Petal Length')\n",
    "plt.ylabel('Petal Width')\n",
    "plt.show()\n"
   ]
  },
  {
   "cell_type": "code",
   "execution_count": 25,
   "id": "e9284658",
   "metadata": {},
   "outputs": [
    {
     "data": {
      "image/png": "[encoded data removed]",
      "text/plain": [
       "<Figure size 640x480 with 1 Axes>"
      ]
     },
     "metadata": {},
     "output_type": "display_data"
    }
   ],
   "source": [
    "\n",
    "\n",
    "# Count the number of occurrences for each predicted species using bar plot\n",
    "unique_species, counts = np.unique(y_pred, return_counts=True)\n",
    "\n",
    "# Convert the unique_species array to integers\n",
    "unique_species = unique_species.astype(int)\n",
    "\n",
    "# Create a bar chart\n",
    "plt.bar(unique_species, counts)\n",
    "plt.xticks(unique_species, iris.target_names[unique_species])\n",
    "plt.xlabel('Species')\n",
    "plt.ylabel('Count')\n",
    "plt.title('Predicted Species Distribution')\n",
    "plt.show()\n"
   ]
  },
  {
   "cell_type": "code",
   "execution_count": null,
   "id": "42636b56",
   "metadata": {},
   "outputs": [],
   "source": []
  }
 ],
 "metadata": {
  "kernelspec": {
   "display_name": "Python 3 (ipykernel)",
   "language": "python",
   "name": "python3"
  },
  "language_info": {
   "codemirror_mode": {
    "name": "ipython",
    "version": 3
   },
   "file_extension": ".py",
   "mimetype": "text/x-python",
   "name": "python",
   "nbconvert_exporter": "python",
   "pygments_lexer": "ipython3",
   "version": "3.11.5"
  }
 },
 "nbformat": 4,
 "nbformat_minor": 5
}
